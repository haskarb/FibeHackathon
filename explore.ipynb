{
 "cells": [
  {
   "cell_type": "code",
   "execution_count": 1,
   "metadata": {},
   "outputs": [],
   "source": [
    "import pandas as pd\n",
    "import numpy as np\n"
   ]
  },
  {
   "cell_type": "code",
   "execution_count": 2,
   "metadata": {},
   "outputs": [],
   "source": [
    "# read the data\n",
    "train_raw = pd.read_csv(\"./dataset/train.csv\")\n",
    "test_raw = pd.read_csv(\"./dataset/test.csv\")    \n"
   ]
  },
  {
   "cell_type": "code",
   "execution_count": 3,
   "metadata": {},
   "outputs": [
    {
     "name": "stdout",
     "output_type": "stream",
     "text": [
      "train data shape:  (25000, 5480)\n",
      "test data shape:  (5000, 5479)\n"
     ]
    }
   ],
   "source": [
    "# check the data shape\n",
    "print(\"train data shape: \", train_raw.shape)\n",
    "print(\"test data shape: \", test_raw.shape)"
   ]
  },
  {
   "cell_type": "code",
   "execution_count": 4,
   "metadata": {},
   "outputs": [
    {
     "data": {
      "text/html": [
       "<div>\n",
       "<style scoped>\n",
       "    .dataframe tbody tr th:only-of-type {\n",
       "        vertical-align: middle;\n",
       "    }\n",
       "\n",
       "    .dataframe tbody tr th {\n",
       "        vertical-align: top;\n",
       "    }\n",
       "\n",
       "    .dataframe thead th {\n",
       "        text-align: right;\n",
       "    }\n",
       "</style>\n",
       "<table border=\"1\" class=\"dataframe\">\n",
       "  <thead>\n",
       "    <tr style=\"text-align: right;\">\n",
       "      <th></th>\n",
       "      <th>id</th>\n",
       "      <th>var_1</th>\n",
       "      <th>var_2</th>\n",
       "      <th>var_3</th>\n",
       "      <th>var_4</th>\n",
       "      <th>var_5</th>\n",
       "      <th>var_6</th>\n",
       "      <th>var_7</th>\n",
       "      <th>var_8</th>\n",
       "      <th>var_9</th>\n",
       "      <th>...</th>\n",
       "      <th>var_5470</th>\n",
       "      <th>var_5471</th>\n",
       "      <th>var_5472</th>\n",
       "      <th>var_5473</th>\n",
       "      <th>var_5474</th>\n",
       "      <th>var_5475</th>\n",
       "      <th>var_5476</th>\n",
       "      <th>var_5477</th>\n",
       "      <th>var_5478</th>\n",
       "      <th>target</th>\n",
       "    </tr>\n",
       "  </thead>\n",
       "  <tbody>\n",
       "    <tr>\n",
       "      <th>0</th>\n",
       "      <td>id_1</td>\n",
       "      <td>0.015625</td>\n",
       "      <td>0.0</td>\n",
       "      <td>0.0</td>\n",
       "      <td>0.0</td>\n",
       "      <td>0.0</td>\n",
       "      <td>0.0</td>\n",
       "      <td>0.0</td>\n",
       "      <td>0.0</td>\n",
       "      <td>0.355422</td>\n",
       "      <td>...</td>\n",
       "      <td>NaN</td>\n",
       "      <td>NaN</td>\n",
       "      <td>NaN</td>\n",
       "      <td>NaN</td>\n",
       "      <td>NaN</td>\n",
       "      <td>NaN</td>\n",
       "      <td>NaN</td>\n",
       "      <td>NaN</td>\n",
       "      <td>NaN</td>\n",
       "      <td>0</td>\n",
       "    </tr>\n",
       "    <tr>\n",
       "      <th>1</th>\n",
       "      <td>id_2</td>\n",
       "      <td>0.187500</td>\n",
       "      <td>0.0</td>\n",
       "      <td>0.0</td>\n",
       "      <td>0.0</td>\n",
       "      <td>0.0</td>\n",
       "      <td>0.0</td>\n",
       "      <td>0.0</td>\n",
       "      <td>0.0</td>\n",
       "      <td>0.150602</td>\n",
       "      <td>...</td>\n",
       "      <td>0.0</td>\n",
       "      <td>NaN</td>\n",
       "      <td>0.000000</td>\n",
       "      <td>NaN</td>\n",
       "      <td>NaN</td>\n",
       "      <td>NaN</td>\n",
       "      <td>NaN</td>\n",
       "      <td>NaN</td>\n",
       "      <td>NaN</td>\n",
       "      <td>0</td>\n",
       "    </tr>\n",
       "    <tr>\n",
       "      <th>2</th>\n",
       "      <td>id_3</td>\n",
       "      <td>0.000000</td>\n",
       "      <td>0.0</td>\n",
       "      <td>0.0</td>\n",
       "      <td>0.0</td>\n",
       "      <td>0.0</td>\n",
       "      <td>0.0</td>\n",
       "      <td>0.0</td>\n",
       "      <td>0.0</td>\n",
       "      <td>NaN</td>\n",
       "      <td>...</td>\n",
       "      <td>NaN</td>\n",
       "      <td>NaN</td>\n",
       "      <td>0.008333</td>\n",
       "      <td>NaN</td>\n",
       "      <td>NaN</td>\n",
       "      <td>0.0</td>\n",
       "      <td>NaN</td>\n",
       "      <td>NaN</td>\n",
       "      <td>0.0</td>\n",
       "      <td>0</td>\n",
       "    </tr>\n",
       "    <tr>\n",
       "      <th>3</th>\n",
       "      <td>id_4</td>\n",
       "      <td>0.156250</td>\n",
       "      <td>0.0</td>\n",
       "      <td>0.0</td>\n",
       "      <td>0.0</td>\n",
       "      <td>0.0</td>\n",
       "      <td>0.0</td>\n",
       "      <td>0.0</td>\n",
       "      <td>0.0</td>\n",
       "      <td>0.018072</td>\n",
       "      <td>...</td>\n",
       "      <td>NaN</td>\n",
       "      <td>NaN</td>\n",
       "      <td>NaN</td>\n",
       "      <td>NaN</td>\n",
       "      <td>NaN</td>\n",
       "      <td>NaN</td>\n",
       "      <td>NaN</td>\n",
       "      <td>NaN</td>\n",
       "      <td>NaN</td>\n",
       "      <td>0</td>\n",
       "    </tr>\n",
       "    <tr>\n",
       "      <th>4</th>\n",
       "      <td>id_5</td>\n",
       "      <td>0.046875</td>\n",
       "      <td>0.0</td>\n",
       "      <td>0.0</td>\n",
       "      <td>0.0</td>\n",
       "      <td>0.0</td>\n",
       "      <td>0.0</td>\n",
       "      <td>0.0</td>\n",
       "      <td>0.0</td>\n",
       "      <td>0.096386</td>\n",
       "      <td>...</td>\n",
       "      <td>NaN</td>\n",
       "      <td>NaN</td>\n",
       "      <td>NaN</td>\n",
       "      <td>NaN</td>\n",
       "      <td>NaN</td>\n",
       "      <td>NaN</td>\n",
       "      <td>NaN</td>\n",
       "      <td>NaN</td>\n",
       "      <td>NaN</td>\n",
       "      <td>0</td>\n",
       "    </tr>\n",
       "  </tbody>\n",
       "</table>\n",
       "<p>5 rows × 5480 columns</p>\n",
       "</div>"
      ],
      "text/plain": [
       "     id     var_1  var_2  var_3  var_4  var_5  var_6  var_7  var_8     var_9  \\\n",
       "0  id_1  0.015625    0.0    0.0    0.0    0.0    0.0    0.0    0.0  0.355422   \n",
       "1  id_2  0.187500    0.0    0.0    0.0    0.0    0.0    0.0    0.0  0.150602   \n",
       "2  id_3  0.000000    0.0    0.0    0.0    0.0    0.0    0.0    0.0       NaN   \n",
       "3  id_4  0.156250    0.0    0.0    0.0    0.0    0.0    0.0    0.0  0.018072   \n",
       "4  id_5  0.046875    0.0    0.0    0.0    0.0    0.0    0.0    0.0  0.096386   \n",
       "\n",
       "   ...  var_5470  var_5471  var_5472  var_5473  var_5474  var_5475  var_5476  \\\n",
       "0  ...       NaN       NaN       NaN       NaN       NaN       NaN       NaN   \n",
       "1  ...       0.0       NaN  0.000000       NaN       NaN       NaN       NaN   \n",
       "2  ...       NaN       NaN  0.008333       NaN       NaN       0.0       NaN   \n",
       "3  ...       NaN       NaN       NaN       NaN       NaN       NaN       NaN   \n",
       "4  ...       NaN       NaN       NaN       NaN       NaN       NaN       NaN   \n",
       "\n",
       "   var_5477  var_5478  target  \n",
       "0       NaN       NaN       0  \n",
       "1       NaN       NaN       0  \n",
       "2       NaN       0.0       0  \n",
       "3       NaN       NaN       0  \n",
       "4       NaN       NaN       0  \n",
       "\n",
       "[5 rows x 5480 columns]"
      ]
     },
     "execution_count": 4,
     "metadata": {},
     "output_type": "execute_result"
    }
   ],
   "source": [
    "train_raw.head()"
   ]
  },
  {
   "cell_type": "code",
   "execution_count": 5,
   "metadata": {},
   "outputs": [
    {
     "data": {
      "text/plain": [
       "0    0.85316\n",
       "1    0.14684\n",
       "Name: target, dtype: float64"
      ]
     },
     "execution_count": 5,
     "metadata": {},
     "output_type": "execute_result"
    }
   ],
   "source": [
    "train_raw.target.value_counts(normalize=True)"
   ]
  },
  {
   "cell_type": "code",
   "execution_count": 6,
   "metadata": {},
   "outputs": [
    {
     "data": {
      "text/plain": [
       "id          0.00000\n",
       "var_1       0.08496\n",
       "var_2       0.08496\n",
       "var_3       0.08496\n",
       "var_4       0.08496\n",
       "             ...   \n",
       "var_5475    0.95896\n",
       "var_5476    0.96844\n",
       "var_5477    0.99972\n",
       "var_5478    0.89720\n",
       "target      0.00000\n",
       "Length: 5480, dtype: float64"
      ]
     },
     "execution_count": 6,
     "metadata": {},
     "output_type": "execute_result"
    }
   ],
   "source": [
    "# check for missing values\n",
    "train_raw.isnull().mean()"
   ]
  },
  {
   "cell_type": "code",
   "execution_count": 7,
   "metadata": {},
   "outputs": [
    {
     "name": "stdout",
     "output_type": "stream",
     "text": [
      "Index(['var_11', 'var_12', 'var_13', 'var_15', 'var_16', 'var_17', 'var_19',\n",
      "       'var_20', 'var_21', 'var_23',\n",
      "       ...\n",
      "       'var_5469', 'var_5470', 'var_5471', 'var_5472', 'var_5473', 'var_5474',\n",
      "       'var_5475', 'var_5476', 'var_5477', 'var_5478'],\n",
      "      dtype='object', length=2441)\n"
     ]
    }
   ],
   "source": [
    "# columns with missing values > 50%\n",
    "null50 = train_raw.isnull().mean()[train_raw.isnull().mean() > 0.5].index\n",
    "\n",
    "print(null50)"
   ]
  },
  {
   "cell_type": "code",
   "execution_count": null,
   "metadata": {},
   "outputs": [],
   "source": []
  },
  {
   "cell_type": "code",
   "execution_count": 9,
   "metadata": {},
   "outputs": [],
   "source": [
    "# drop columns with missing values > 50%\n",
    "train_raw.drop(null50, axis=1, inplace=True)\n",
    "test_raw.drop(null50, axis=1, inplace=True)\n"
   ]
  },
  {
   "cell_type": "code",
   "execution_count": 10,
   "metadata": {},
   "outputs": [
    {
     "name": "stdout",
     "output_type": "stream",
     "text": [
      "train data shape:  (25000, 3038)\n",
      "test data shape:  (5000, 3037)\n"
     ]
    }
   ],
   "source": [
    "# drop id columns\n",
    "train_raw.drop(['id'], axis=1, inplace=True)\n",
    "test_raw.drop(['id'], axis=1, inplace=True)\n",
    "\n",
    "print(\"train data shape: \", train_raw.shape)\n",
    "print(\"test data shape: \", test_raw.shape)\n",
    "\n"
   ]
  },
  {
   "cell_type": "code",
   "execution_count": 11,
   "metadata": {},
   "outputs": [
    {
     "name": "stdout",
     "output_type": "stream",
     "text": [
      "train data shape:  (25000, 1024)\n",
      "test data shape:  (5000, 1023)\n"
     ]
    }
   ],
   "source": [
    "# check for constant columns\n",
    "const_cols = train_raw.nunique()[train_raw.nunique() == 1].index\n",
    "\n",
    "# drop constant columns\n",
    "train_raw.drop(const_cols, axis=1, inplace=True)\n",
    "test_raw.drop(const_cols, axis=1, inplace=True)\n",
    "\n",
    "print(\"train data shape: \", train_raw.shape)\n",
    "print(\"test data shape: \", test_raw.shape)\n"
   ]
  },
  {
   "cell_type": "code",
   "execution_count": 12,
   "metadata": {},
   "outputs": [
    {
     "name": "stdout",
     "output_type": "stream",
     "text": [
      "train data shape:  (25000, 997)\n",
      "test data shape:  (5000, 996)\n"
     ]
    }
   ],
   "source": [
    "# check for duplicated columns\n",
    "dup_cols = train_raw.T.duplicated()[train_raw.T.duplicated() == True].index\n",
    "\n",
    "# drop duplicated columns\n",
    "train_raw.drop(dup_cols, axis=1, inplace=True)\n",
    "test_raw.drop(dup_cols, axis=1, inplace=True)\n",
    "\n",
    "print(\"train data shape: \", train_raw.shape)\n",
    "print(\"test data shape: \", test_raw.shape)"
   ]
  },
  {
   "cell_type": "code",
   "execution_count": null,
   "metadata": {},
   "outputs": [
    {
     "data": {
      "text/plain": [
       "(30000, 1000)"
      ]
     },
     "execution_count": 29,
     "metadata": {},
     "output_type": "execute_result"
    }
   ],
   "source": []
  },
  {
   "cell_type": "code",
   "execution_count": null,
   "metadata": {},
   "outputs": [],
   "source": []
  }
 ],
 "metadata": {
  "kernelspec": {
   "display_name": "test",
   "language": "python",
   "name": "python3"
  },
  "language_info": {
   "codemirror_mode": {
    "name": "ipython",
    "version": 3
   },
   "file_extension": ".py",
   "mimetype": "text/x-python",
   "name": "python",
   "nbconvert_exporter": "python",
   "pygments_lexer": "ipython3",
   "version": "3.8.10"
  },
  "orig_nbformat": 4
 },
 "nbformat": 4,
 "nbformat_minor": 2
}
